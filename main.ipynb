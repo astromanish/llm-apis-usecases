{
 "cells": [
  {
   "cell_type": "code",
   "execution_count": 1,
   "metadata": {},
   "outputs": [],
   "source": [
    "# external packages\n",
    "import openai\n",
    "import json\n",
    "import os\n",
    "from dotenv import load_dotenv\n"
   ]
  },
  {
   "cell_type": "code",
   "execution_count": 2,
   "metadata": {},
   "outputs": [],
   "source": [
    "# internal packages\n",
    "from utils import generate_response\n",
    "from config import BOTS\n"
   ]
  },
  {
   "cell_type": "code",
   "execution_count": 3,
   "metadata": {},
   "outputs": [],
   "source": [
    "# get access to api\n",
    "load_dotenv()\n",
    "openai.api_key = os.getenv('OPENAI_API_KEY')\n"
   ]
  },
  {
   "cell_type": "code",
   "execution_count": 4,
   "metadata": {},
   "outputs": [
    {
     "name": "stdout",
     "output_type": "stream",
     "text": [
      "{\n",
      "  \"role\": \"assistant\",\n",
      "  \"content\": \"I can help you with the following:\\n\\n1. Generating Python functions: I can generate Python functions for various purposes, such as data analysis, mathematical computations, and more.\\n\\n2. Providing code examples: I can provide code examples for different Python functions, demonstrating how to use them effectively in your projects.\\n\\n3. Performing data analysis and manipulation using pandas: I can help you analyze and manipulate data using the powerful pandas library, including tasks like data cleaning, filtering, aggregation, and visualization.\\n\\n4. Demonstr\"\n",
      "}\n"
     ]
    }
   ],
   "source": [
    "response = generate_response([{\n",
    "    'role': 'system',\n",
    "    'content': BOTS[0]['personality']\n",
    "}])\n",
    "print(response.choices[0].message)\n"
   ]
  }
 ],
 "metadata": {
  "kernelspec": {
   "display_name": "base",
   "language": "python",
   "name": "python3"
  },
  "language_info": {
   "codemirror_mode": {
    "name": "ipython",
    "version": 3
   },
   "file_extension": ".py",
   "mimetype": "text/x-python",
   "name": "python",
   "nbconvert_exporter": "python",
   "pygments_lexer": "ipython3",
   "version": "3.10.9"
  },
  "orig_nbformat": 4
 },
 "nbformat": 4,
 "nbformat_minor": 2
}
