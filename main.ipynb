{
 "cells": [
  {
   "cell_type": "code",
   "execution_count": 1,
   "metadata": {},
   "outputs": [],
   "source": [
    "# external packages\n",
    "import openai\n",
    "import json\n"
   ]
  },
  {
   "cell_type": "code",
   "execution_count": 2,
   "metadata": {},
   "outputs": [],
   "source": [
    "# internal packages\n",
    "from utils import generate_response\n",
    "from config import OPENAI_API_KEY, BOTS\n"
   ]
  },
  {
   "cell_type": "code",
   "execution_count": 3,
   "metadata": {},
   "outputs": [],
   "source": [
    "# get access to api\n",
    "openai.api_key = OPENAI_API_KEY\n"
   ]
  },
  {
   "cell_type": "code",
   "execution_count": 4,
   "metadata": {},
   "outputs": [],
   "source": [
    "response = generate_response(BOTS[0]['conversation'])\n"
   ]
  },
  {
   "cell_type": "code",
   "execution_count": 5,
   "metadata": {},
   "outputs": [
    {
     "name": "stdout",
     "output_type": "stream",
     "text": [
      "To connect to AWS S3 using Python, you can use the `boto3` library, which is the official AWS SDK for Python. Here's an example of how you can establish a connection to S3:\n",
      "\n",
      "```python\n",
      "import boto3\n",
      "\n",
      "def connect_to_s3(access_key, secret_key):\n",
      "    try:\n",
      "        # Create a session using your AWS access key and secret key\n",
      "        session = boto3.Session(\n",
      "            aws_access_key_id=access_key,\n",
      "            aws_secret_access_key=secret_key\n",
      "        )\n",
      "        \n",
      "        # Create an S3 client using the session\n",
      "        s3_client = session.client('s3')\n",
      "        \n",
      "        # Return the S3 client\n",
      "        return s3_client\n",
      "    \n",
      "    except Exception as e:\n",
      "        print(f\"Error connecting to S3: {str(e)}\")\n",
      "        return None\n",
      "```\n",
      "\n",
      "In the above code, the `connect_to_s3` function takes in your AWS access key and secret key as parameters. It creates a session using these credentials and then creates an S3 client using the session. Finally, it returns the S3 client object.\n",
      "\n",
      "You can use this function as follows:\n",
      "\n",
      "```python\n",
      "access_key = 'YOUR_ACCESS_KEY'\n",
      "secret_key = 'YOUR_SECRET_KEY'\n",
      "\n",
      "s3_client = connect_to_s3(access_key, secret_key)\n",
      "\n",
      "if s3_client:\n",
      "    # Perform S3 operations using the s3_client object\n",
      "    # For example, you can list all buckets using s3_client.list_buckets()\n",
      "    # or upload a file using s3_client.upload_file()\n",
      "    pass\n",
      "```\n",
      "\n",
      "Make sure to replace `'YOUR_ACCESS_KEY'` and `'YOUR_SECRET_KEY'` with your actual AWS access key and secret key.\n",
      "\n",
      "Note: It's important to keep your AWS access key and secret key secure and not hardcode them in your code. Consider using environment variables or a secure configuration file to store these credentials.\n"
     ]
    }
   ],
   "source": [
    "print(response.choices[0].message.content)\n"
   ]
  }
 ],
 "metadata": {
  "kernelspec": {
   "display_name": "base",
   "language": "python",
   "name": "python3"
  },
  "language_info": {
   "codemirror_mode": {
    "name": "ipython",
    "version": 3
   },
   "file_extension": ".py",
   "mimetype": "text/x-python",
   "name": "python",
   "nbconvert_exporter": "python",
   "pygments_lexer": "ipython3",
   "version": "3.10.9"
  },
  "orig_nbformat": 4
 },
 "nbformat": 4,
 "nbformat_minor": 2
}
