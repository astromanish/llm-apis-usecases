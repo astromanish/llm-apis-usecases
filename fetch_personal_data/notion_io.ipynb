{
 "cells": [
  {
   "cell_type": "code",
   "execution_count": null,
   "metadata": {},
   "outputs": [],
   "source": [
    "#packages \n",
    "import os\n",
    "from notion_client import Client\n",
    "from pprint import pprint"
   ]
  },
  {
   "cell_type": "code",
   "execution_count": null,
   "metadata": {},
   "outputs": [],
   "source": [
    "#get core notion object \n",
    "from notion_client import Client, AsyncClient\n",
    "\n",
    "notion = Client(auth='secret_BJv6viw4VSv7zwNiebE9xgsn5NGUcQGQtXwok3dZ7Md')"
   ]
  },
  {
   "cell_type": "code",
   "execution_count": null,
   "metadata": {},
   "outputs": [],
   "source": [
    "list_users_response = notion.users.list()\n",
    "pprint(list_users_response['results'][0]['id'])"
   ]
  },
  {
   "cell_type": "code",
   "execution_count": null,
   "metadata": {},
   "outputs": [],
   "source": [
    "database_link = 'https://www.notion.so/10001001/b4d5aff4c5954c19875e0461ec08ae43?v=78751faff8f84e16b819adf34e23fac6&pvs=4'\n",
    "notion_db = notion.databases.query('b4d5aff4c5954c19875e0461ec08ae43')\n",
    "pprint(notion_db['results'][0]['properties'])"
   ]
  },
  {
   "cell_type": "code",
   "execution_count": null,
   "metadata": {},
   "outputs": [],
   "source": [
    "page_link = 'https://www.notion.so/10001001/How-keyboard-works-7e9803b361c24383a0106be6d370d6f3?pvs=4'\n",
    "page = notion.pages.retrieve('7e9803b361c24383a0106be6d370d6f3')\n",
    "pprint(page)"
   ]
  }
 ],
 "metadata": {
  "kernelspec": {
   "display_name": "Python 3 (ipykernel)",
   "language": "python",
   "name": "python3"
  },
  "language_info": {
   "codemirror_mode": {
    "name": "ipython",
    "version": 3
   },
   "file_extension": ".py",
   "mimetype": "text/x-python",
   "name": "python",
   "nbconvert_exporter": "python",
   "pygments_lexer": "ipython3",
   "version": "3.11.2"
  },
  "orig_nbformat": 4
 },
 "nbformat": 4,
 "nbformat_minor": 2
}
