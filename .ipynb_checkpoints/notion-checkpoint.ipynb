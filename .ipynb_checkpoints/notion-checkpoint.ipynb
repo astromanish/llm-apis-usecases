{
 "cells": [
  {
   "cell_type": "code",
   "execution_count": 2,
   "metadata": {},
   "outputs": [
    {
     "name": "stdout",
     "output_type": "stream",
     "text": [
      "Requirement already satisfied: notion in ./venv/lib/python3.11/site-packages (0.0.28)\n",
      "Requirement already satisfied: bs4 in ./venv/lib/python3.11/site-packages (from notion) (0.0.1)\n",
      "Requirement already satisfied: cached-property in ./venv/lib/python3.11/site-packages (from notion) (1.5.2)\n",
      "Requirement already satisfied: commonmark in ./venv/lib/python3.11/site-packages (from notion) (0.9.1)\n",
      "Requirement already satisfied: dictdiffer in ./venv/lib/python3.11/site-packages (from notion) (0.9.0)\n",
      "Requirement already satisfied: python-slugify in ./venv/lib/python3.11/site-packages (from notion) (8.0.1)\n",
      "Requirement already satisfied: requests in ./venv/lib/python3.11/site-packages (from notion) (2.31.0)\n",
      "Requirement already satisfied: tzlocal in ./venv/lib/python3.11/site-packages (from notion) (5.0.1)\n",
      "Requirement already satisfied: beautifulsoup4 in ./venv/lib/python3.11/site-packages (from bs4->notion) (4.12.2)\n",
      "Requirement already satisfied: text-unidecode>=1.3 in ./venv/lib/python3.11/site-packages (from python-slugify->notion) (1.3)\n",
      "Requirement already satisfied: charset-normalizer<4,>=2 in ./venv/lib/python3.11/site-packages (from requests->notion) (3.1.0)\n",
      "Requirement already satisfied: idna<4,>=2.5 in ./venv/lib/python3.11/site-packages (from requests->notion) (3.4)\n",
      "Requirement already satisfied: urllib3<3,>=1.21.1 in ./venv/lib/python3.11/site-packages (from requests->notion) (2.0.3)\n",
      "Requirement already satisfied: certifi>=2017.4.17 in ./venv/lib/python3.11/site-packages (from requests->notion) (2023.5.7)\n",
      "Requirement already satisfied: soupsieve>1.2 in ./venv/lib/python3.11/site-packages (from beautifulsoup4->bs4->notion) (2.4.1)\n"
     ]
    },
    {
     "ename": "ModuleNotFoundError",
     "evalue": "No module named 'notion'",
     "output_type": "error",
     "traceback": [
      "\u001b[0;31m---------------------------------------------------------------------------\u001b[0m",
      "\u001b[0;31mModuleNotFoundError\u001b[0m                       Traceback (most recent call last)",
      "Cell \u001b[0;32mIn [2], line 3\u001b[0m\n\u001b[1;32m      1\u001b[0m get_ipython()\u001b[38;5;241m.\u001b[39msystem(\u001b[38;5;124m'\u001b[39m\u001b[38;5;124mpip install notion\u001b[39m\u001b[38;5;124m'\u001b[39m)\n\u001b[1;32m      2\u001b[0m \u001b[38;5;28;01mimport\u001b[39;00m \u001b[38;5;21;01mos\u001b[39;00m\n\u001b[0;32m----> 3\u001b[0m \u001b[38;5;28;01mfrom\u001b[39;00m \u001b[38;5;21;01mnotion\u001b[39;00m\u001b[38;5;21;01m.\u001b[39;00m\u001b[38;5;21;01mclient\u001b[39;00m \u001b[38;5;28;01mimport\u001b[39;00m NotionClient\n\u001b[1;32m      5\u001b[0m NOTION_API_KEY \u001b[38;5;241m=\u001b[39m \u001b[38;5;124m\"\u001b[39m\u001b[38;5;124msecret_Cmjn44sYmlKqqsTN65lVwce7UIuYCvyqxcoc4WYrtaO\u001b[39m\u001b[38;5;124m\"\u001b[39m\n\u001b[1;32m      7\u001b[0m link \u001b[38;5;241m=\u001b[39m (\n\u001b[1;32m      8\u001b[0m     \u001b[38;5;124m\"\u001b[39m\u001b[38;5;124mhttps://www.notion.so/10001001/Playground-b4d5aff4c5954c19875e0461ec08ae43?pvs=4\u001b[39m\u001b[38;5;124m\"\u001b[39m\n\u001b[1;32m      9\u001b[0m )\n",
      "\u001b[0;31mModuleNotFoundError\u001b[0m: No module named 'notion'"
     ]
    }
   ],
   "source": [
    "!pip install notion\n",
    "import os\n",
    "from notion.client import NotionClient\n",
    "\n",
    "NOTION_API_KEY = \"secret_Cmjn44sYmlKqqsTN65lVwce7UIuYCvyqxcoc4WYrtaO\"\n",
    "\n",
    "link = (\n",
    "    \"https://www.notion.so/10001001/Playground-b4d5aff4c5954c19875e0461ec08ae43?pvs=4\"\n",
    ")\n",
    "\n",
    "client = NotionClient(token_v2=NOTION_API_KEY)\n",
    "\n",
    "\n",
    "def create_page():\n",
    "    page = client.get_block(\"Playground-b4d5aff4c5954c19875e0461ec08ae43\")\n",
    "\n",
    "    new_page = page.children.add_new(\"page\")\n",
    "    new_page.title = \"Tuscan kale\"\n",
    "    new_page.set_property(\"Description\", \"A dark green leafy vegetable\")\n",
    "    new_page.set_property(\"Food group\", \"Vegetable\")\n",
    "\n",
    "    lacinato_kale = page.children.add_new(\"header\")\n",
    "    lacinato_kale.title = \"Lacinato kale\"\n",
    "\n",
    "    paragraph = page.children.add_new(\"text\")\n",
    "    paragraph.title = \"Lacinato kale is a variety of kale with a long tradition in Italian cuisine, especially that of Tuscany. It is also known as Tuscan kale, Italian kale, dinosaur kale, kale, flat back kale, palm tree kale, or black Tuscan palm.\"\n",
    "    paragraph.title_link = \"https://en.wikipedia.org/wiki/Lacinato_kale\"\n",
    "\n",
    "\n",
    "create_page()"
   ]
  },
  {
   "cell_type": "code",
   "execution_count": null,
   "metadata": {},
   "outputs": [],
   "source": []
  }
 ],
 "metadata": {
  "kernelspec": {
   "display_name": "Python 3 (ipykernel)",
   "language": "python",
   "name": "python3"
  },
  "language_info": {
   "codemirror_mode": {
    "name": "ipython",
    "version": 3
   },
   "file_extension": ".py",
   "mimetype": "text/x-python",
   "name": "python",
   "nbconvert_exporter": "python",
   "pygments_lexer": "ipython3",
   "version": "3.11.2"
  }
 },
 "nbformat": 4,
 "nbformat_minor": 2
}
